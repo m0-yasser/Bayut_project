{
 "cells": [
  {
   "cell_type": "code",
   "execution_count": null,
   "metadata": {},
   "outputs": [],
   "source": [
    "import pandas as pd\n",
    "import numpy as np\n",
    "import plotly.express as px\n",
    "from sklearn.metrics import  accuracy_score\n",
    "\n",
    "from sklearn.preprocessing import LabelEncoder\n",
    "from sklearn.linear_model import LinearRegression\n",
    "from sklearn.metrics import r2_score\n",
    "from sklearn.model_selection import train_test_split\n",
    "from sklearn.preprocessing import PolynomialFeatures\n",
    "import joblib\n",
    "\n",
    "df = pd.read_csv(\"bayut_units_cleaned.csv\")\n",
    "\n",
    "df[\"city\"] =df[\"Location\"].str.split(\"،\").str[-1]\n",
    "df[\"city2\"]=df[\"Location\"].str.split(\"،\").str[-2]\n",
    "\n",
    "df2 = df[[\"Price\",\"Rooms\",\"Bathrooms\",\"Area\",\"Property Type\",\"Offer Type\",\"Building Status\",\"city\",\"city2\"]]\n",
    "\n",
    "\n",
    "\n",
    "cols_cat = [\"Property Type\",\"Offer Type\",\"Building Status\",\"city\",\"city2\"]\n",
    "for i in cols_cat:\n",
    "    df2[i] = LabelEncoder().fit_transform(df2[i])\n",
    "\n",
    "\n",
    "X = df2[[\"Area\",\"Rooms\",\"Property Type\",\"city2\",\"city\",'Building Status']]\n",
    "y = df2['Price']\n",
    "\n",
    "x_train, x_test, y_train, y_test = train_test_split(X, y, test_size=0.2,random_state=42)\n",
    "\n",
    "model = LinearRegression()\n",
    "model.fit(x_train, y_train)\n",
    "\n",
    "train_r2 = model.score(x_train, y_train)\n",
    "test_r2  = model.score(x_test, y_test)\n",
    "print(f\"Training Accuracy: {train_r2}\\nTesting Accuracy: {test_r2}\")"
   ]
  }
 ],
 "metadata": {
  "language_info": {
   "name": "python"
  }
 },
 "nbformat": 4,
 "nbformat_minor": 2
}
